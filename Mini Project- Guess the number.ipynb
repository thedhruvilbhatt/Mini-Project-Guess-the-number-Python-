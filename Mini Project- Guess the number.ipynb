{
 "cells": [
  {
   "cell_type": "code",
   "execution_count": 6,
   "id": "8e76c09c-d6f6-4e63-89f4-fc363c307569",
   "metadata": {},
   "outputs": [
    {
     "name": "stdin",
     "output_type": "stream",
     "text": [
      "Guess the target or Quit: 58\n"
     ]
    },
    {
     "name": "stdout",
     "output_type": "stream",
     "text": [
      "your number was too small.Take a bigger guess..\n"
     ]
    },
    {
     "name": "stdin",
     "output_type": "stream",
     "text": [
      "Guess the target or Quit: 89\n"
     ]
    },
    {
     "name": "stdout",
     "output_type": "stream",
     "text": [
      "your number was too small.Take a bigger guess..\n"
     ]
    },
    {
     "name": "stdin",
     "output_type": "stream",
     "text": [
      "Guess the target or Quit: 95\n"
     ]
    },
    {
     "name": "stdout",
     "output_type": "stream",
     "text": [
      "your number was too small.Take a bigger guess..\n"
     ]
    },
    {
     "name": "stdin",
     "output_type": "stream",
     "text": [
      "Guess the target or Quit: 96\n"
     ]
    },
    {
     "name": "stdout",
     "output_type": "stream",
     "text": [
      "your number was too small.Take a bigger guess..\n"
     ]
    },
    {
     "name": "stdin",
     "output_type": "stream",
     "text": [
      "Guess the target or Quit: 97\n"
     ]
    },
    {
     "name": "stdout",
     "output_type": "stream",
     "text": [
      "your number was too small.Take a bigger guess..\n"
     ]
    },
    {
     "name": "stdin",
     "output_type": "stream",
     "text": [
      "Guess the target or Quit: 98\n"
     ]
    },
    {
     "name": "stdout",
     "output_type": "stream",
     "text": [
      "success: correct guess!!\n",
      "-----Game Over-----\n"
     ]
    }
   ],
   "source": [
    "import random\n",
    "target= random.randint(1,100)\n",
    "while True:\n",
    "    userchoice=input(\"Guess the target or Quit:\")\n",
    "    if (userchoice==\"Quit\"):\n",
    "        break\n",
    "\n",
    "    userchoice= int(userchoice)\n",
    "    if(userchoice==target):\n",
    "        print(\"success: correct guess!!\")\n",
    "        break\n",
    "    elif(userchoice<target):\n",
    "        print(\"your number was too small.Take a bigger guess..\")\n",
    "    else:\n",
    "        print(\"your number was too big.Take a smaller guess..\")\n",
    "    \n",
    "print(\"-----Game Over-----\")\n"
   ]
  },
  {
   "cell_type": "code",
   "execution_count": null,
   "id": "7cb5681a-7baf-4ffb-a55f-92fce80d2e23",
   "metadata": {},
   "outputs": [],
   "source": []
  }
 ],
 "metadata": {
  "kernelspec": {
   "display_name": "Python 3 (ipykernel)",
   "language": "python",
   "name": "python3"
  },
  "language_info": {
   "codemirror_mode": {
    "name": "ipython",
    "version": 3
   },
   "file_extension": ".py",
   "mimetype": "text/x-python",
   "name": "python",
   "nbconvert_exporter": "python",
   "pygments_lexer": "ipython3",
   "version": "3.11.7"
  }
 },
 "nbformat": 4,
 "nbformat_minor": 5
}
